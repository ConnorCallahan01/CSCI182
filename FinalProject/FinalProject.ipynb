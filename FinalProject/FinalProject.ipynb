{
 "cells": [
  {
   "cell_type": "markdown",
   "metadata": {},
   "source": [
    "# Final Project CSCI 182\n",
    "## Members: Danny Bowers, Patrick Callahan, Allen "
   ]
  },
  {
   "cell_type": "code",
   "execution_count": 5,
   "metadata": {},
   "outputs": [
    {
     "name": "stdout",
     "output_type": "stream",
     "text": [
      "0 Stolen Dance\n",
      "1 Flashed Junk Mind\n",
      "2 Cocoon\n",
      "3 Colorado\n",
      "4 Tainted Love\n",
      "5 Down By The River\n",
      "6 Unknown Song\n",
      "7 Don't Let Me Down\n",
      "8 Colorado\n",
      "9 Levitating\n",
      "10 Fairytale\n",
      "11 Save Your Tears\n",
      "12 Daydreaming\n",
      "13 Sweet Sun\n",
      "14 Love Again\n",
      "15 Blossom\n",
      "16 The Game\n",
      "17 Fado\n",
      "18 La Noche De Anoche\n",
      "19 Firebird\n"
     ]
    }
   ],
   "source": [
    "#Import the necessary library to access the Spotify API\n",
    "import spotipy\n",
    "from spotipy.oauth2 import SpotifyClientCredentials\n",
    "\n",
    "#attach the Spotify API necessities. \n",
    "sp = spotipy.Spotify(auth_manager=SpotifyClientCredentials(client_id=\"d7ab2112e221473a8b2a7a88c1aac45e\",\n",
    "                                                           client_secret=\"fde374bcf24947c1812412a474d3ef94\"))\n",
    "\n",
    "results = sp.search(q='milky chance', limit=20)\n",
    "for idx, track in enumerate(results['tracks']['items']):\n",
    "    print(idx, track['name'])"
   ]
  },
  {
   "cell_type": "code",
   "execution_count": null,
   "metadata": {},
   "outputs": [],
   "source": [
    "lz_uri = 'spotify:artist:36QJpDe2go2KgaRleHCDTp'\n",
    "\n",
    "spotify = spotipy.Spotify(client_credentials_manager=SpotifyClientCredentials(client_id=\"d7ab2112e221473a8b2a7a88c1aac45e\",\n",
    "                                                           client_secret=\"fde374bcf24947c1812412a474d3ef94\"))\n",
    "results = spotify.artist_top_tracks(lz_uri)\n",
    "\n",
    "for track in results['tracks'][:10]:\n",
    "    print('track    : ' + track['name'])\n",
    "    print('audio    : ' + track['preview_url'])\n",
    "    print('cover art: ' + track['album']['images'][0]['url'])\n",
    "    print()"
   ]
  }
 ],
 "metadata": {
  "kernelspec": {
   "display_name": "Python 3",
   "language": "python",
   "name": "python3"
  },
  "language_info": {
   "codemirror_mode": {
    "name": "ipython",
    "version": 3
   },
   "file_extension": ".py",
   "mimetype": "text/x-python",
   "name": "python",
   "nbconvert_exporter": "python",
   "pygments_lexer": "ipython3",
   "version": "3.8.5"
  }
 },
 "nbformat": 4,
 "nbformat_minor": 4
}

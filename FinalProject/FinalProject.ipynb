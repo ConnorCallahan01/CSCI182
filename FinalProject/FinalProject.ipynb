{
 "cells": [
  {
   "cell_type": "markdown",
   "metadata": {},
   "source": [
    "# Final Project CSCI 182\n",
    "## Members: Danny Bowers, Patrick Callahan, Allen Shahshahani"
   ]
  },
  {
   "cell_type": "code",
   "execution_count": 3,
   "metadata": {},
   "outputs": [
    {
     "name": "stdout",
     "output_type": "stream",
     "text": [
      "0 Stolen Dance\n",
      "1 Flashed Junk Mind\n",
      "2 Cocoon\n",
      "3 Colorado\n",
      "4 Tainted Love\n",
      "5 Down By The River\n",
      "6 Unknown Song\n",
      "7 Don't Let Me Down\n",
      "8 Colorado\n",
      "9 Levitating\n",
      "10 Fairytale\n",
      "11 Save Your Tears\n",
      "12 Daydreaming\n",
      "13 Sweet Sun\n",
      "14 Love Again\n",
      "15 Blossom\n",
      "16 The Game\n",
      "17 Fado\n",
      "18 La Noche De Anoche\n",
      "19 Firebird\n"
     ]
    }
   ],
   "source": [
    "#Import the necessary library to access the Spotify API\n",
    "import spotipy\n",
    "from spotipy.oauth2 import SpotifyClientCredentials\n",
    "\n",
    "#attach the Spotify API necessities. \n",
    "sp = spotipy.Spotify(auth_manager=SpotifyClientCredentials(client_id=\"d7ab2112e221473a8b2a7a88c1aac45e\",\n",
    "                                                           client_secret=\"fde374bcf24947c1812412a474d3ef94\"))\n",
    "\n",
    "#This will query the top 20 tracks from the artist Milky Chance\n",
    "results = sp.search(q='milky chance', limit=20)\n",
    "for idx, track in enumerate(results['tracks']['items']):\n",
    "    print(idx, track['name'])"
   ]
  },
  {
   "cell_type": "code",
   "execution_count": 61,
   "metadata": {},
   "outputs": [
    {
     "name": "stdout",
     "output_type": "stream",
     "text": [
      "track    : Stairway to Heaven - Remaster\n",
      "audio    : https://p.scdn.co/mp3-preview/8226164717312bc411f8635580562d67e191a754?cid=d7ab2112e221473a8b2a7a88c1aac45e\n",
      "cover art: https://i.scdn.co/image/ab67616d0000b273c8a11e48c91a982d086afc69\n",
      "\n",
      "track    : Immigrant Song - Remaster\n",
      "audio    : https://p.scdn.co/mp3-preview/8455599677a13017978dcd3f4b210937f0a16bcb?cid=d7ab2112e221473a8b2a7a88c1aac45e\n",
      "cover art: https://i.scdn.co/image/ab67616d0000b27390a50cfe99a4c19ff3cbfbdb\n",
      "\n",
      "track    : Whole Lotta Love - 1990 Remaster\n",
      "audio    : https://p.scdn.co/mp3-preview/ce11b19a4d2de9976d7626df0717d0073863909c?cid=d7ab2112e221473a8b2a7a88c1aac45e\n",
      "cover art: https://i.scdn.co/image/ab67616d0000b273fc4f17340773c6c3579fea0d\n",
      "\n",
      "track    : Black Dog - Remaster\n",
      "audio    : https://p.scdn.co/mp3-preview/9b76619fd9d563a48d38cc90ca00c3008327b52e?cid=d7ab2112e221473a8b2a7a88c1aac45e\n",
      "cover art: https://i.scdn.co/image/ab67616d0000b273c8a11e48c91a982d086afc69\n",
      "\n",
      "track    : Kashmir - Remaster\n",
      "audio    : https://p.scdn.co/mp3-preview/f3ca68c9ceaa3435d5bd55c0199ba0b09b916cce?cid=d7ab2112e221473a8b2a7a88c1aac45e\n",
      "cover art: https://i.scdn.co/image/ab67616d0000b273765b0617b572bdd1dbdc7d8e\n",
      "\n",
      "track    : Ramble On - 1990 Remaster\n",
      "audio    : https://p.scdn.co/mp3-preview/83383aceb01ea27b0bffdedfaebe55e29b33aca2?cid=d7ab2112e221473a8b2a7a88c1aac45e\n",
      "cover art: https://i.scdn.co/image/ab67616d0000b273fc4f17340773c6c3579fea0d\n",
      "\n",
      "track    : Rock and Roll - Remaster\n",
      "audio    : https://p.scdn.co/mp3-preview/e7ea8a13f7caf6942c5447e9cd96aac2a076d85a?cid=d7ab2112e221473a8b2a7a88c1aac45e\n",
      "cover art: https://i.scdn.co/image/ab67616d0000b273c8a11e48c91a982d086afc69\n",
      "\n",
      "track    : Going to California - Remaster\n",
      "audio    : https://p.scdn.co/mp3-preview/4bdae56c6a9f7a8ec42b753cb7bea2c77ec68f1e?cid=d7ab2112e221473a8b2a7a88c1aac45e\n",
      "cover art: https://i.scdn.co/image/ab67616d0000b273c8a11e48c91a982d086afc69\n",
      "\n",
      "track    : Good Times Bad Times - 1993 Remaster\n",
      "audio    : https://p.scdn.co/mp3-preview/c1f024eb57b569b926c8e68cab0a6056dc7d9654?cid=d7ab2112e221473a8b2a7a88c1aac45e\n",
      "cover art: https://i.scdn.co/image/ab67616d0000b2736f2f499c1df1f210c9b34b32\n",
      "\n",
      "track    : D'yer Mak'er - Remaster\n",
      "audio    : https://p.scdn.co/mp3-preview/863a26744fa4389f1dc61557133df3453be82d7b?cid=d7ab2112e221473a8b2a7a88c1aac45e\n",
      "cover art: https://i.scdn.co/image/ab67616d0000b2731816adce1d49e35d3ce9a1d1\n",
      "\n"
     ]
    }
   ],
   "source": [
    "lz_uri = 'spotify:artist:36QJpDe2go2KgaRleHCDTp'\n",
    "\n",
    "spotify = spotipy.Spotify(client_credentials_manager=SpotifyClientCredentials(client_id=\"d7ab2112e221473a8b2a7a88c1aac45e\",\n",
    "                                                           client_secret=\"fde374bcf24947c1812412a474d3ef94\"))\n",
    "results = spotify.artist_top_tracks(lz_uri)\n",
    "\n",
    "for track in results['tracks'][:10]:\n",
    "    print('track    : ' + track['name'])\n",
    "    print('audio    : ' + track['preview_url'])\n",
    "    print('cover art: ' + track['album']['images'][0]['url'])\n",
    "    print()"
   ]
  },
  {
   "cell_type": "code",
   "execution_count": 62,
   "metadata": {},
   "outputs": [
    {
     "name": "stdout",
     "output_type": "stream",
     "text": [
      "Rubble To Rubble - Wilderado\n",
      "Down the River - Caamp\n",
      "All That and More (Sailboat) - Rainbow Kitten Surprise\n",
      "Foreplay - Jalen Santoy\n",
      "Love Is a Bitch - Two Feet\n",
      "Porto - Worakls\n",
      "What Will Be Will Be - The Green\n",
      "Long Nights - Eddie Vedder\n",
      "i hate u, i love u (feat. olivia o'brien) - Garrett Nash\n",
      "26 - Caamp\n",
      "Come Away - Sons Of The East\n",
      "A.M. RADIO - The Lumineers\n",
      "Beige (unburdened) - Yoke Lore\n",
      "heartbeat - Ziggy Alberts\n",
      "Do It To It - ACRAZE\n",
      "Going Gets Tough - The Growlers\n",
      "Roll The Bones - Audiotree Live Version - Shakey Graves\n",
      "Colorado - Milky Chance\n",
      "Tainted Love - Milky Chance\n",
      "Rivers and Roads - The Head And The Heart\n"
     ]
    }
   ],
   "source": [
    "import spotipy\n",
    "import sys\n",
    "import spotipy.util as util\n",
    "\n",
    "#   username = '4708760c32384ea2'\n",
    "SPOTIPY_CLIENT_ID = 'd7ab2112e221473a8b2a7a88c1aac45e'\n",
    "SPOTIPY_CLIENT_SECRET = 'fde374bcf24947c1812412a474d3ef94'\n",
    "SPOTIPY_REDIRECT_URI='http://localhost:8080/callback'\n",
    "\n",
    "scope = 'user-library-read'\n",
    "# https://open.spotify.com/user/alexandradelbiaggio?si=4708760c32384ea2\n",
    "if len(sys.argv) > 1:\n",
    "    username = sys.argv[1]\n",
    "else:\n",
    "    print(\"Usage: %s username\" % (sys.argv[0],))\n",
    "    sys.exit()\n",
    "\n",
    "token = util.prompt_for_user_token(username, scope, client_id=SPOTIPY_CLIENT_ID,\n",
    "                           client_secret=SPOTIPY_CLIENT_SECRET,\n",
    "                           redirect_uri=SPOTIPY_REDIRECT_URI)\n",
    "\n",
    "if token:\n",
    "    sp = spotipy.Spotify(auth=token)\n",
    "    results = sp.current_user_saved_tracks()\n",
    "    for item in results['items']:\n",
    "        track = item['track']\n",
    "        print(track['name'] + ' - ' + track['artists'][0]['name'])\n",
    "else:\n",
    "    print(\"Can't get token for\", username)\n"
   ]
  },
  {
   "cell_type": "code",
   "execution_count": 63,
   "metadata": {},
   "outputs": [
    {
     "name": "stdout",
     "output_type": "stream",
     "text": [
      "Rubble To Rubble - Wilderado\n",
      "Down the River - Caamp\n",
      "All That and More (Sailboat) - Rainbow Kitten Surprise\n",
      "Foreplay - Jalen Santoy\n",
      "Love Is a Bitch - Two Feet\n",
      "Porto - Worakls\n",
      "What Will Be Will Be - The Green\n",
      "Long Nights - Eddie Vedder\n",
      "i hate u, i love u (feat. olivia o'brien) - Garrett Nash\n",
      "26 - Caamp\n",
      "Come Away - Sons Of The East\n",
      "A.M. RADIO - The Lumineers\n",
      "Beige (unburdened) - Yoke Lore\n",
      "heartbeat - Ziggy Alberts\n",
      "Do It To It - ACRAZE\n",
      "Going Gets Tough - The Growlers\n",
      "Roll The Bones - Audiotree Live Version - Shakey Graves\n",
      "Colorado - Milky Chance\n",
      "Tainted Love - Milky Chance\n",
      "Rivers and Roads - The Head And The Heart\n"
     ]
    }
   ],
   "source": []
  },
  {
   "cell_type": "code",
   "execution_count": null,
   "metadata": {},
   "outputs": [],
   "source": []
  }
 ],
 "metadata": {
  "kernelspec": {
   "display_name": "Python 3",
   "language": "python",
   "name": "python3"
  },
  "language_info": {
   "codemirror_mode": {
    "name": "ipython",
    "version": 3
   },
   "file_extension": ".py",
   "mimetype": "text/x-python",
   "name": "python",
   "nbconvert_exporter": "python",
   "pygments_lexer": "ipython3",
   "version": "3.9.6"
  }
 },
 "nbformat": 4,
 "nbformat_minor": 4
}

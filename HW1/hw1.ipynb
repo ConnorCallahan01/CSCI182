{
 "cells": [
  {
   "cell_type": "markdown",
   "metadata": {},
   "source": [
    "# Patrick Callahan\n",
    "## student id#: (00001473244)\n"
   ]
  },
  {
   "cell_type": "markdown",
   "metadata": {},
   "source": [
    "## *CSCI 182: Web and Data Mining (Homework #1)*"
   ]
  },
  {
   "cell_type": "markdown",
   "metadata": {},
   "source": [
    "###  -Task 1: Define Object\n",
    "Define a function called ’task1’ to assign items= [1, 2, 3, 4, 5] as a list object, and print the list."
   ]
  },
  {
   "cell_type": "code",
   "execution_count": 2,
   "metadata": {},
   "outputs": [
    {
     "name": "stdout",
     "output_type": "stream",
     "text": [
      "[1, 2, 3, 4, 5]\n"
     ]
    }
   ],
   "source": [
    "def task1():\n",
    "    assigned = []\n",
    "    for i in range(1,6):\n",
    "        assigned.append(i)\n",
    "    return assigned\n",
    "\n",
    "print(task1())    "
   ]
  },
  {
   "cell_type": "markdown",
   "metadata": {},
   "source": [
    "### -Task 2: File Reading\n",
    "Create a file called ’task2.data.’ and type string ’1 2 3 4 5 6 7 8 9 10’ in it without quotation marks, and then write a function to read the file and load the string as two list-objects items1 = [1, 2, 3, 4, 5], items2 = [6, 7, 8, 9, 10]. Print the two lists (items1 and items2). "
   ]
  },
  {
   "cell_type": "code",
   "execution_count": 27,
   "metadata": {},
   "outputs": [
    {
     "name": "stdout",
     "output_type": "stream",
     "text": [
      "The values in items1 list are:  [1, 2, 3, 4, 5]\n",
      "\n",
      "The values in items2 list are:  [6, 7, 8, 9, 10]\n"
     ]
    }
   ],
   "source": [
    "import numpy as np\n",
    "import pandas as pd\n",
    "file_name = open(\"task2.data\", \"w\")\n",
    "file_name.write('1 2 3 4 5 6 7 8 9 10')\n",
    "\n",
    "def parse_data(): \n",
    "    items1 = []\n",
    "    items2 = []\n",
    "    data =  pd.read_csv('task2.data', sep=\" \")\n",
    "    for col_names in data.columns[:5]:\n",
    "        items1.append(int(col_names))\n",
    "    for col_names in data.columns[5:]:\n",
    "        items2.append(int(col_names))\n",
    "    print(\"The values in items1 list are: \",items1)\n",
    "    print()\n",
    "    print(\"The values in items2 list are: \",items2)\n",
    "\n",
    "parse_data()\n",
    "\n"
   ]
  },
  {
   "cell_type": "markdown",
   "metadata": {},
   "source": [
    "### -Task 3: Data Structures\n",
    "It is important to be familiar with the functions of a dictionary: items(), keys(), values(), Write a program to print the dictionary using these functions."
   ]
  },
  {
   "cell_type": "code",
   "execution_count": 52,
   "metadata": {},
   "outputs": [
    {
     "name": "stdout",
     "output_type": "stream",
     "text": [
      "school :  UAlbany\n",
      "address :  1400 Washington Ave, Albany, NY 12222\n",
      "phone :  (518) 442-3300\n"
     ]
    }
   ],
   "source": [
    "data = {'school': 'UAlbany', 'address': '1400 Washington Ave, Albany, NY 12222', 'phone': '(518) 442-3300'}\n",
    "\n",
    "\n",
    "def printDictionaryItems(data_):\n",
    "    for i,j in data_.items(): \n",
    "        print(i, \": \", j)\n",
    "\n",
    "            \n",
    "printDictionaryItems(data)\n"
   ]
  },
  {
   "cell_type": "markdown",
   "metadata": {},
   "source": [
    "### -Task 4: Data Serialization\n",
    "Use json to store the above dictionary in a file and then load the same and print item, key and values. Read more about json format here: https://www.w3schools.com/js/js_json_intro.asp\n",
    "This task tells how to store a dictionary object to a file and then load the dictionary object from the file (Hint: dictionary → json string→ string in a file → json string → dictionary). In python, objects of any type can be mostly saved in json format to a txt file."
   ]
  },
  {
   "cell_type": "code",
   "execution_count": 83,
   "metadata": {},
   "outputs": [
    {
     "name": "stdout",
     "output_type": "stream",
     "text": [
      "school :  UAlbany\n",
      "address :  1400 Washington Ave, Albany, NY 12222\n",
      "phone :  (518) 442-3300\n"
     ]
    }
   ],
   "source": [
    "import json\n",
    "data = {'school': 'UAlbany', 'address': '1400 Washington Ave, Albany, NY 12222', 'phone': '(518) 442-3300'}\n",
    "json_ = open(\"dictionary4.json\", \"w\")\n",
    "json.dump(data, json_)\n",
    "json_.close()\n",
    "\n",
    "json_ = open(\"dictionary4.json\", \"r\")\n",
    "json_data = json.load(json_)\n",
    "printDictionaryItems(json_data)"
   ]
  },
  {
   "cell_type": "markdown",
   "metadata": {},
   "source": [
    "### -Task 5: Data Serialization\n",
    "In this task we store a number of different types of objects (e.g., list, dictionary, array) to a file and then load the objects from the file.\n",
    "Write a function to dump list object items = [1,2,3,4,5] and above dictionary to a file called ’task5.data’, and then load them from the same file and print."
   ]
  },
  {
   "cell_type": "code",
   "execution_count": 92,
   "metadata": {},
   "outputs": [
    {
     "name": "stdout",
     "output_type": "stream",
     "text": [
      "{\"school\": \"UAlbany\", \"address\": \"1400 Washington Ave, Albany, NY 12222\", \"phone\": \"(518) 442-3300\"}[1, 2, 3, 4, 5]\n"
     ]
    }
   ],
   "source": [
    "import json\n",
    "items = [1,2,3,4,5]\n",
    "data = {'school': 'UAlbany', 'address': '1400 Washington Ave, Albany, NY 12222', 'phone': '(518) 442-3300'}\n",
    "\n",
    "data_file = open(\"task5.data\", \"w\")\n",
    "json.dump(data, data_file)\n",
    "json.dump(items, data_file)\n",
    "#data_file.write(str(items))\n",
    "\n",
    "data_file.close()\n",
    "\n",
    "data_file = open(\"task5.data\", \"r\")\n",
    "for i in data_file:\n",
    "    print(i)"
   ]
  },
  {
   "cell_type": "markdown",
   "metadata": {},
   "source": [
    "### -Task 6: Data Preprocessing\n",
    "Read the tweets from the file ”CrimeReport.txt” and print the id for each tweet. Here are some functions that you will use in the task: open().readlines(), tweet = json.loads(), print tweet.keys(),\n",
    "Once you know the keys of the tweet dictionary object, then you can find which key relates to tweet id, and you can then retrieve the id of this specific tweet."
   ]
  },
  {
   "cell_type": "code",
   "execution_count": 212,
   "metadata": {},
   "outputs": [
    {
     "name": "stdout",
     "output_type": "stream",
     "text": [
      "The id of the tweet # 1 is:  429129916446031872\n",
      "The id of the tweet # 2 is:  429117247307923456\n",
      "The id of the tweet # 3 is:  429315798893461505\n",
      "The id of the tweet # 4 is:  429079910091476992\n",
      "The id of the tweet # 5 is:  429030956888899584\n",
      "The id of the tweet # 6 is:  429152645702352896\n",
      "The id of the tweet # 7 is:  429016075921940481\n",
      "The id of the tweet # 8 is:  428898232690044928\n",
      "The id of the tweet # 9 is:  428956892602191873\n",
      "The id of the tweet # 10 is:  429111068368326656\n",
      "The id of the tweet # 11 is:  429167217976958976\n",
      "The id of the tweet # 12 is:  429379822314614785\n",
      "The id of the tweet # 13 is:  429235096919359488\n",
      "The id of the tweet # 14 is:  428986795586383872\n",
      "The id of the tweet # 15 is:  429238790310203392\n",
      "The id of the tweet # 16 is:  429509723516194817\n",
      "The id of the tweet # 17 is:  429509617756811264\n",
      "The id of the tweet # 18 is:  429509135437017089\n",
      "The id of the tweet # 19 is:  429509033045659648\n",
      "The id of the tweet # 20 is:  429508763708817408\n",
      "The id of the tweet # 21 is:  429508217303875584\n",
      "The id of the tweet # 22 is:  429508122604883969\n",
      "The id of the tweet # 23 is:  429507949934157824\n",
      "The id of the tweet # 24 is:  429507930975510528\n",
      "The id of the tweet # 25 is:  429507700716613632\n",
      "The id of the tweet # 26 is:  429507388056412160\n",
      "The id of the tweet # 27 is:  429507387393703936\n",
      "The id of the tweet # 28 is:  429507291763576832\n",
      "The id of the tweet # 29 is:  429506469214437376\n",
      "The id of the tweet # 30 is:  429506433801924608\n",
      "The id of the tweet # 31 is:  429506012626702336\n",
      "The id of the tweet # 32 is:  429505339621662720\n",
      "The id of the tweet # 33 is:  429505236148174848\n",
      "The id of the tweet # 34 is:  429505189544878081\n",
      "The id of the tweet # 35 is:  429505128605818880\n",
      "The id of the tweet # 36 is:  429505116433956864\n",
      "The id of the tweet # 37 is:  429504618939158528\n",
      "The id of the tweet # 38 is:  429503319321493504\n",
      "The id of the tweet # 39 is:  429503199959986177\n",
      "The id of the tweet # 40 is:  429502545145237504\n",
      "The id of the tweet # 41 is:  429502437460680704\n",
      "The id of the tweet # 42 is:  429502289481449472\n",
      "The id of the tweet # 43 is:  429502207763836929\n",
      "The id of the tweet # 44 is:  429502122015481856\n",
      "The id of the tweet # 45 is:  429501723934461952\n",
      "The id of the tweet # 46 is:  429501695442186240\n",
      "The id of the tweet # 47 is:  429501574805585920\n",
      "The id of the tweet # 48 is:  429501521940598784\n",
      "The id of the tweet # 49 is:  429501272786354176\n",
      "The id of the tweet # 50 is:  429501173670739968\n",
      "The id of the tweet # 51 is:  429500659553931264\n",
      "The id of the tweet # 52 is:  429500626821996544\n",
      "The id of the tweet # 53 is:  429500250303111168\n",
      "The id of the tweet # 54 is:  429499974507061248\n",
      "The id of the tweet # 55 is:  429499957083897856\n",
      "The id of the tweet # 56 is:  429499927874789376\n",
      "The id of the tweet # 57 is:  429499891593658368\n",
      "The id of the tweet # 58 is:  429499566778351616\n",
      "The id of the tweet # 59 is:  429499480954531841\n",
      "The id of the tweet # 60 is:  429499000081760256\n",
      "The id of the tweet # 61 is:  429498405837369344\n",
      "The id of the tweet # 62 is:  429498397167734784\n",
      "The id of the tweet # 63 is:  429497948267765760\n",
      "The id of the tweet # 64 is:  429497921277415426\n",
      "The id of the tweet # 65 is:  429497098531115008\n",
      "The id of the tweet # 66 is:  429496907191181312\n",
      "The id of the tweet # 67 is:  429496260790206467\n",
      "The id of the tweet # 68 is:  429496119207272448\n",
      "The id of the tweet # 69 is:  429495848548847616\n",
      "The id of the tweet # 70 is:  429495195319951361\n",
      "The id of the tweet # 71 is:  429495172859060224\n",
      "The id of the tweet # 72 is:  429494325622222848\n",
      "The id of the tweet # 73 is:  429493745243799552\n",
      "The id of the tweet # 74 is:  429493724763389953\n",
      "The id of the tweet # 75 is:  429493689216679936\n",
      "The id of the tweet # 76 is:  429493026323300352\n",
      "The id of the tweet # 77 is:  429492585606807552\n",
      "The id of the tweet # 78 is:  429492578195472384\n",
      "The id of the tweet # 79 is:  429492510801420288\n",
      "The id of the tweet # 80 is:  429492212674478080\n",
      "The id of the tweet # 81 is:  429491944268374016\n",
      "The id of the tweet # 82 is:  429491406961250305\n",
      "The id of the tweet # 83 is:  429490875685556224\n",
      "The id of the tweet # 84 is:  429489676513054720\n",
      "The id of the tweet # 85 is:  429489649082314752\n",
      "The id of the tweet # 86 is:  429489638408220672\n",
      "The id of the tweet # 87 is:  429489636746878976\n",
      "The id of the tweet # 88 is:  429489636444884992\n",
      "The id of the tweet # 89 is:  429489636423897090\n",
      "The id of the tweet # 90 is:  429489636386144256\n",
      "The id of the tweet # 91 is:  429489380147740672\n",
      "The id of the tweet # 92 is:  429488933169147904\n",
      "The id of the tweet # 93 is:  429488616197193730\n",
      "The id of the tweet # 94 is:  429488467572056064\n",
      "The id of the tweet # 95 is:  429488175862808576\n",
      "The id of the tweet # 96 is:  429488126608678912\n",
      "The id of the tweet # 97 is:  429487461878992897\n",
      "The id of the tweet # 98 is:  429487155757330432\n",
      "The id of the tweet # 99 is:  429487042423033856\n",
      "The id of the tweet # 100 is:  429486947955146752\n",
      "The id of the tweet # 101 is:  429486365659906048\n",
      "The id of the tweet # 102 is:  429485718771990528\n",
      "The id of the tweet # 103 is:  429485563507654656\n",
      "The id of the tweet # 104 is:  429485059242856448\n",
      "The id of the tweet # 105 is:  429484915839991808\n",
      "The id of the tweet # 106 is:  429484743227625472\n",
      "The id of the tweet # 107 is:  429484226082525184\n",
      "The id of the tweet # 108 is:  429484187171971072\n",
      "The id of the tweet # 109 is:  429483997932949504\n",
      "The id of the tweet # 110 is:  429483743066091521\n",
      "The id of the tweet # 111 is:  429483488165654528\n",
      "The id of the tweet # 112 is:  429482862300397568\n",
      "The id of the tweet # 113 is:  429482630036205568\n",
      "The id of the tweet # 114 is:  429482200552067073\n",
      "The id of the tweet # 115 is:  429482178645606400\n",
      "\n",
      "The list of tweet id's is: \n",
      "\n",
      "[429129916446031872, 429117247307923456, 429315798893461505, 429079910091476992, 429030956888899584, 429152645702352896, 429016075921940481, 428898232690044928, 428956892602191873, 429111068368326656, 429167217976958976, 429379822314614785, 429235096919359488, 428986795586383872, 429238790310203392, 429509723516194817, 429509617756811264, 429509135437017089, 429509033045659648, 429508763708817408, 429508217303875584, 429508122604883969, 429507949934157824, 429507930975510528, 429507700716613632, 429507388056412160, 429507387393703936, 429507291763576832, 429506469214437376, 429506433801924608, 429506012626702336, 429505339621662720, 429505236148174848, 429505189544878081, 429505128605818880, 429505116433956864, 429504618939158528, 429503319321493504, 429503199959986177, 429502545145237504, 429502437460680704, 429502289481449472, 429502207763836929, 429502122015481856, 429501723934461952, 429501695442186240, 429501574805585920, 429501521940598784, 429501272786354176, 429501173670739968, 429500659553931264, 429500626821996544, 429500250303111168, 429499974507061248, 429499957083897856, 429499927874789376, 429499891593658368, 429499566778351616, 429499480954531841, 429499000081760256, 429498405837369344, 429498397167734784, 429497948267765760, 429497921277415426, 429497098531115008, 429496907191181312, 429496260790206467, 429496119207272448, 429495848548847616, 429495195319951361, 429495172859060224, 429494325622222848, 429493745243799552, 429493724763389953, 429493689216679936, 429493026323300352, 429492585606807552, 429492578195472384, 429492510801420288, 429492212674478080, 429491944268374016, 429491406961250305, 429490875685556224, 429489676513054720, 429489649082314752, 429489638408220672, 429489636746878976, 429489636444884992, 429489636423897090, 429489636386144256, 429489380147740672, 429488933169147904, 429488616197193730, 429488467572056064, 429488175862808576, 429488126608678912, 429487461878992897, 429487155757330432, 429487042423033856, 429486947955146752, 429486365659906048, 429485718771990528, 429485563507654656, 429485059242856448, 429484915839991808, 429484743227625472, 429484226082525184, 429484187171971072, 429483997932949504, 429483743066091521, 429483488165654528, 429482862300397568, 429482630036205568, 429482200552067073, 429482178645606400]\n"
     ]
    }
   ],
   "source": [
    "import json\n",
    "\n",
    "list_id = []\n",
    "count = 1\n",
    "for line in open('CrimeReport.txt').readlines():\n",
    "    tweet = json.loads(line)\n",
    "    #print(tweet.keys())\n",
    "    print(\"The id of the tweet #\",count, \"is: \", tweet['id'])\n",
    "    list_id.append(tweet['id'])\n",
    "    count += 1\n",
    "\n",
    "print()\n",
    "print(\"The list of tweet id's is: \")\n",
    "print()\n",
    "print(list_id)\n"
   ]
  },
  {
   "cell_type": "markdown",
   "metadata": {},
   "source": [
    "### -Task 7: Data Preprocessing: tweets filtering\n",
    "INPUT: ”CrimeReport.txt”\n",
    "<br>\n",
    "<br>\n",
    "OUTPUT: a file ”task7.data” that stores the 10 most recent tweets\n",
    "Suggestions:\n",
    "tweet[‘created − at’] gives the created time of this tweet. Rank tweets based on the time from the earliest to the most recent. Then we can identify the 10 most recent tweets. Some example lines that are not directly runnable: [image next page]"
   ]
  },
  {
   "cell_type": "code",
   "execution_count": 286,
   "metadata": {},
   "outputs": [],
   "source": [
    "import json\n",
    "import datetime\n",
    "\n",
    "tweets = []\n",
    "for line in open(\"CrimeReport.txt\").readlines():\n",
    "    tweet=json.loads(line)\n",
    "    tweets.append(tweet)\n",
    "\n",
    "def sortTweets(tweets_to_read, tweet_item):\n",
    "    sorted_tweets = sorted(tweets_to_read, key = lambda tweet_item: datetime.datetime.strptime(tweet_item['created_at'], '%a %b %d %H:%M:%S +0000 %Y'))\n",
    "    return sorted_tweets\n",
    "\n",
    "sortTweets(tweets, tweet)\n",
    "f = open('task7.txt', 'w') #I used .txt because I am running the program on a Mac and .data cannot be opened\n",
    "for tweet in sorted_tweets[-10:]:\n",
    "    f.write(json.dumps(tweet) + '\\n')\n",
    "f.close()\n",
    "\n"
   ]
  },
  {
   "cell_type": "markdown",
   "metadata": {},
   "source": [
    "### -Tast 8: File Operations\n",
    "INPUT :CrimeReport.txt: in this file, each line is a raw tweet json format. output-folder: where new results will be stored \n",
    "<br>\n",
    "<br>\n",
    "REQUIREMENT: read tweets and separate these tweets into groups based on the specific hours (Mon-Day-Year-Hour). The tweets related to a specific hour will be stored in a separate file in the folder ”task8-output” with the file name ”Mon-Day-Year-Hour.txt”\n",
    "<br>\n",
    "<br>\n",
    "OUTPUT: new files generated and stored in the folder ”task8-output”, in which each file stores the tweets corresponding to a specific hour."
   ]
  },
  {
   "cell_type": "code",
   "execution_count": 311,
   "metadata": {},
   "outputs": [],
   "source": [
    "import json\n",
    "import datetime\n",
    "\n",
    "\n",
    "for tweet in sorted_tweets: \n",
    "    tweet_date = datetime.datetime.strptime(tweet['created_at'], '%a %b %d %H:%M:%S +0000 %Y')\n",
    "    filename=str(tweet_date.month)+\"-\"+str(tweet_date.day)+\"-\"+str(tweet_date.year)+\"-\"+str(tweet_date.hour)+\".txt\"\n",
    "    file = open(\"task8-output/\"+filename,'a')\n",
    "    file.write(json.dumps(tweet) + '\\n')\n",
    "\n"
   ]
  },
  {
   "cell_type": "code",
   "execution_count": null,
   "metadata": {},
   "outputs": [],
   "source": []
  }
 ],
 "metadata": {
  "kernelspec": {
   "display_name": "Python 3",
   "language": "python",
   "name": "python3"
  },
  "language_info": {
   "codemirror_mode": {
    "name": "ipython",
    "version": 3
   },
   "file_extension": ".py",
   "mimetype": "text/x-python",
   "name": "python",
   "nbconvert_exporter": "python",
   "pygments_lexer": "ipython3",
   "version": "3.8.5"
  }
 },
 "nbformat": 4,
 "nbformat_minor": 4
}
